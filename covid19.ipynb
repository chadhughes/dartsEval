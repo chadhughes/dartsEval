{
 "cells": [
  {
   "cell_type": "markdown",
   "id": "cf5fa6a8",
   "metadata": {},
   "source": [
    "# COVID-19: Daily New Confirmed Cases & Projections"
   ]
  },
  {
   "cell_type": "code",
   "execution_count": 1,
   "id": "cb2c59ed-7cd7-4dd0-b427-00ae7690c567",
   "metadata": {},
   "outputs": [],
   "source": [
    "import requests, csv, re, io\n",
    "import numpy as np\n",
    "import pandas as pd\n",
    "import matplotlib.pyplot as plt\n",
    "import matplotlib.ticker as ticker\n",
    "import matplotlib.dates as mdates\n",
    "from datetime import date, timedelta\n",
    "from hampel import hampel\n",
    "from darts import TimeSeries\n",
    "from darts.utils.missing_values import fill_missing_values, missing_values_ratio\n",
    "from darts.utils.statistics import check_seasonality, plot_acf, extract_trend_and_seasonality, remove_seasonality, remove_trend, plot_residuals_analysis, plot_acf, stationarity_tests, stationarity_test_adf\n",
    "from darts.utils.utils import ModelMode, SeasonalityMode\n",
    "from darts.dataprocessing import Pipeline\n",
    "from darts.dataprocessing.transformers import Scaler, BoxCox\n",
    "from darts.metrics import r2_score, mape, mase, rmse, rmsle, coefficient_of_variation\n",
    "from darts.models import MovingAverage, KalmanFilter, ExponentialSmoothing, ARIMA, StatsForecastAutoARIMA, LinearRegressionModel\n",
    "from sklearn.preprocessing import MinMaxScaler, RobustScaler, StandardScaler\n",
    "\n",
    "import statsmodels.api as sm\n",
    "from statsmodels.regression.rolling import RollingOLS\n",
    "from statsmodels.tools import add_constant\n",
    "\n",
    "import geopy.geocoders\n",
    "from geopy.distance import geodesic\n",
    "from geopy.geocoders import Nominatim\n",
    "\n",
    "import seaborn as sns\n",
    "sns.set_style(\"darkgrid\")\n",
    "sns.set_palette(\"deep\")\n",
    "\n",
    "import warnings\n",
    "warnings.filterwarnings('ignore')\n",
    "warnings.simplefilter('ignore')\n",
    "\n",
    "import logging\n",
    "logging.disable(logging.CRITICAL)\n",
    "\n",
    "__author__ = '(BSD 2-Clause License)'\n",
    "%matplotlib inline"
   ]
  },
  {
   "cell_type": "markdown",
   "id": "c23f3181",
   "metadata": {},
   "source": [
    "## Population Center"
   ]
  },
  {
   "cell_type": "code",
   "execution_count": 2,
   "id": "8d4df7a6-a708-4ed2-b9fd-88d2ca087177",
   "metadata": {},
   "outputs": [],
   "source": [
    "# homeLoc = (20.86399628, -156.5689097)        ## Maui, Hawaii, US, POP:   167,417\n",
    "# homeLoc = (36.21458855, -115.0130241)        ## Clark, Nevada, US, POP: 2,266,715\n",
    "# homeLoc = (34.59933926, -112.5538588)        ## Yavapai, Arizona\n",
    "# homeLoc = (38.68278902, -121.90182879999999) ## Yolo, California, US, POP:   220,500\n",
    "# homeLoc = (38.50735751, -122.33283899999999) ## Napa, California, US, POP:  137,744\n",
    "homeLoc = (37.42288, -122.32755)             ## San Mateo, California, US, POP:   766,573\n",
    "# homeLoc = (37.177123, -122.366529)           ## SMC, (this location excludes Alameda Co at 40 miles)\n",
    "# homeLoc = (37.23104908, -121.6970462)        ## Santa Clara, California, US\n",
    "# homeLoc = (37.64629437, -121.8929271)        ## Alameda, California, US\n",
    "# homeLoc = (36.21862405,-121.24133970000001)  ## Monterey, California, US\n",
    "# homeLoc = (29.88548725, -96.27736949)        ## Austin, Texas, US, POP:  30,032\n",
    "# homeLoc = (31.31925973, -95.42226208)        ## Houston, Texas\n",
    "# homeLoc = (34.65329488, -120.0188492)        ## Santa Barbara, California\n",
    "# homeLoc = (34.30828379, -118.2282411)        ## Los Angeles, California\n",
    "# homeLoc = (39.01002188, -94.34724536)        ## Jackson, Missouri\n",
    "# homeLoc = (38.77965956, -120.5233166)        ## El Dorado, California\n",
    "# homeLoc = (40.7672726,-73.97152637)          ## New York, New York\n",
    "# homeLoc = (25.6112362,-80.55170587)          ## Miami-Dade, Florida"
   ]
  },
  {
   "cell_type": "code",
   "execution_count": 3,
   "id": "316ae270-d4b6-4f4e-a87c-7f533af80204",
   "metadata": {},
   "outputs": [],
   "source": [
    "distTH = 60   ## miles from homeLoc\n",
    "popMult = 1e5 ## 100k\n",
    "startDate = pd.Timestamp('20200301')\n",
    "endNdaysBack = 0\n",
    "\n",
    "backtestRatio = 0.9\n",
    "backtestStride = 3\n",
    "forecastHorizon = 7\n",
    "predictionDays = 90\n",
    "\n",
    "geopy.geocoders.options.default_timeout = 15\n",
    "geolocator = Nominatim(user_agent=\"revLookup\")\n",
    "location = geolocator.reverse(query=homeLoc, zoom=9)\n",
    "citations = '''Ground truth: Johns Hopkins University. “COVID-19 Data Repository by the Center for Systems Science and Engineering (CSSE).” https://github.com/CSSEGISandData/COVID-19. Accessed {}.\n",
    "Population center: {}\n",
    "Copyright © {} {}'''.format(date.today().strftime('%-d %b %Y'), location.address, date.today().year, __author__)"
   ]
  },
  {
   "cell_type": "code",
   "execution_count": 4,
   "id": "3be92077-dcb8-4d3a-adc1-48d00261ec51",
   "metadata": {},
   "outputs": [],
   "source": [
    "def getCounties(data):\n",
    "    countyList = []\n",
    "    covid19Data = []\n",
    "    populationSum = 0\n",
    "    for row in data:\n",
    "        fips = row['FIPS']\n",
    "        if re.match(r'[+-]?(\\d+(\\.\\d*)?|\\.\\d+)([eE][+-]?\\d+)?$', fips):  ## match floats\n",
    "            fips = float(fips)\n",
    "            combinedKey = row['Combined_Key']\n",
    "            lat = row['Lat']\n",
    "            long_ = row['Long_']\n",
    "#             try:\n",
    "            countyLoc = (float(lat), float(long_))\n",
    "#             except Exception:\n",
    "#                 print(\"Error: >>> {}, {} <<<\".format(lat, long_))\n",
    "#                 pass\n",
    "            distance = geodesic(homeLoc, countyLoc).miles\n",
    "            if distance <= distTH:\n",
    "                population = populationLookup[fips]\n",
    "                populationSum += int(population)\n",
    "                countyList.append(fips)\n",
    "                print('FIPS:{:7.1f}, {:>30}, POP:{:10,.0f}, {:4,.0f}-miles, {}'.format(fips, combinedKey, float(population), distance, countyLoc))\n",
    "                covid19Data.append(row)\n",
    "                if distance <=1:\n",
    "                    itemList = []\n",
    "                    for k, v in row.items():\n",
    "                        itemList.append([k, v])\n",
    "                    confCaseDays = itemList[11:]\n",
    "                    k, week2Ago = confCaseDays[-15]\n",
    "                    k, weekAgo = confCaseDays[-8]\n",
    "                    k, last = confCaseDays[-1]\n",
    "                    last = int(float(last))\n",
    "                    weekAgo = int(float(weekAgo))\n",
    "                    week2Ago = int(float(week2Ago))\n",
    "    print('Total population: {:,.0f}'.format(populationSum))\n",
    "    return(countyList, covid19Data, populationSum)"
   ]
  },
  {
   "cell_type": "code",
   "execution_count": 5,
   "id": "233467b2-9637-468a-b6da-2c9992defcd2",
   "metadata": {},
   "outputs": [],
   "source": [
    "# FIPS population\n",
    "url = 'https://raw.githubusercontent.com/CSSEGISandData/COVID-19/master/csse_covid_19_data/UID_ISO_FIPS_LookUp_Table.csv'\n",
    "r = requests.get(url)\n",
    "if r.status_code != 200:\n",
    "    # print(\"Error! Status Code: {}\".format(r.status_code))\n",
    "    raise SystemExit(\"Error! Status Code: {}\".format(r.status_code))\n",
    "\n",
    "LTable = r.content\n",
    "data = csv.DictReader(io.StringIO(LTable.decode('utf-8')))\n",
    "\n",
    "populationLookup = {}\n",
    "for row in data:\n",
    "    fips = row['FIPS']\n",
    "    population = row['Population']\n",
    "    if re.match(r'[+-]?(\\d+(\\.\\d*)?|\\.\\d+)([eE][+-]?\\d+)?$', fips):  ## match floats\n",
    "        populationLookup[float(fips)] = population"
   ]
  },
  {
   "cell_type": "markdown",
   "id": "405d6032",
   "metadata": {},
   "source": [
    "## Total Population Area"
   ]
  },
  {
   "cell_type": "code",
   "execution_count": 6,
   "id": "5e99ac07-acf3-46b2-9d7f-a61dc0bba3bb",
   "metadata": {},
   "outputs": [
    {
     "name": "stdout",
     "output_type": "stream",
     "text": [
      "FIPS: 6001.0,        Alameda, California, US, POP: 1,671,329,   28-miles, (37.64629437, -121.8929271)\n",
      "FIPS: 6013.0,   Contra Costa, California, US, POP: 1,153,526,   41-miles, (37.91923498, -121.9289527)\n",
      "FIPS: 6041.0,          Marin, California, US, POP:   258,826,   50-miles, (38.07122463, -122.7210631)\n",
      "FIPS: 6075.0,  San Francisco, California, US, POP:   881,549,   24-miles, (37.75215114, -122.4385672)\n",
      "FIPS: 6081.0,      San Mateo, California, US, POP:   766,573,    0-miles, (37.4228808, -122.32755459999998)\n",
      "FIPS: 6085.0,    Santa Clara, California, US, POP: 1,927,852,   37-miles, (37.23104908, -121.6970462)\n",
      "FIPS: 6087.0,     Santa Cruz, California, US, POP:   273,213,   31-miles, (37.05580291, -122.0066524)\n",
      "Total population: 6,932,868\n"
     ]
    }
   ],
   "source": [
    "# Daily cases\n",
    "url = 'https://raw.githubusercontent.com/CSSEGISandData/COVID-19/master/csse_covid_19_data/csse_covid_19_time_series/time_series_covid19_confirmed_US.csv'\n",
    "r = requests.get(url)\n",
    "if r.status_code != 200:\n",
    "    # print(\"Error! Status Code: {}\".format(r.status_code))\n",
    "    raise SystemExit(\"Error! Status Code: {}\".format(r.status_code))\n",
    "\n",
    "confCasesUS = r.content\n",
    "data = csv.DictReader(io.StringIO(confCasesUS.decode('utf-8')))\n",
    "counties, covid19Data, populationSum = getCounties(data)\n",
    "countyCount = len(counties)"
   ]
  },
  {
   "cell_type": "code",
   "execution_count": 7,
   "id": "5017db6a-17c3-4704-8268-553109eec48c",
   "metadata": {},
   "outputs": [],
   "source": [
    "countyData = []\n",
    "for row in covid19Data:\n",
    "    itemList = []\n",
    "    for k, v in row.items():\n",
    "        itemList.append([k, v])\n",
    "    confCaseDays = itemList[11:]\n",
    "    df = pd.DataFrame(confCaseDays, columns=['Date', 'Cases'])\n",
    "    df['Date'] = pd.to_datetime(df['Date'])\n",
    "    df['Cases'] = pd.to_numeric(df['Cases'], errors='ignore')\n",
    "    df['Cases'] = (df['Cases'] / populationSum) * popMult ## Cases per <popMult>\n",
    "    countyData.append(df)\n",
    "last = pd.DataFrame({'A' : []})  ## Empty DataFrame\n",
    "for df in countyData:\n",
    "    if last.empty == True:\n",
    "        last = df\n",
    "        # print(df)\n",
    "    else:\n",
    "        # print(df)\n",
    "        df = pd.merge_asof(last, df, on='Date', by='Date', tolerance=pd.Timedelta('3d'))\n",
    "        last = df\n",
    "df['Ground Total'] = df.sum(numeric_only=True, axis=1)\n",
    "df = df[['Date', 'Ground Total']]\n",
    "df = df.set_index('Date')\n",
    "endDate = pd.Timestamp(df.iloc[[-1]].index[0].date() - timedelta(endNdaysBack))\n",
    "series = fill_missing_values(TimeSeries.from_dataframe(df=df, time_col=None, value_cols='Ground Total', fill_missing_dates=True), fill=0.0).drop_before(startDate - timedelta(1))\n",
    "numDays = len(series)\n",
    "df = df.tail(numDays)\n",
    "series = series.drop_after(endDate)\n",
    "numDays = len(series)\n",
    "df = df.head(numDays + 1)"
   ]
  },
  {
   "cell_type": "markdown",
   "id": "38207b98",
   "metadata": {},
   "source": [
    "#### Seasonality Test"
   ]
  },
  {
   "cell_type": "code",
   "execution_count": 8,
   "id": "4db46796-bb95-47a9-b049-2e0dc530caf6",
   "metadata": {},
   "outputs": [
    {
     "name": "stdout",
     "output_type": "stream",
     "text": [
      "Inspecting seasonality...\n",
      "> No seasonality detected.\n"
     ]
    }
   ],
   "source": [
    "print('Inspecting seasonality...')\n",
    "seasonalityDetected = False\n",
    "for m in range(2, 21):\n",
    "    is_seasonal, period = check_seasonality(series, m=m, alpha=.05)\n",
    "    if is_seasonal:\n",
    "        print('> There is seasonality of order {}.'.format(period))\n",
    "        seasonalityDetected = True\n",
    "if seasonalityDetected == False:\n",
    "    print(\"> No seasonality detected.\")"
   ]
  },
  {
   "cell_type": "markdown",
   "id": "28525302",
   "metadata": {},
   "source": [
    "#### Missing Values"
   ]
  },
  {
   "cell_type": "code",
   "execution_count": 9,
   "id": "aad4e810-4fc3-469b-9ebd-202b16ede883",
   "metadata": {},
   "outputs": [
    {
     "name": "stdout",
     "output_type": "stream",
     "text": [
      "Missing values: 1.46%\n"
     ]
    }
   ],
   "source": [
    "rWindow = 14\n",
    "dfCopy = df\n",
    "dfCopy['Ground Diff'] = df['Ground Total'].diff()\n",
    "# reverse sample every n rows, then reverse back\n",
    "df = df.iloc[::-rWindow, :]\n",
    "df = df.iloc[::-1]\n",
    "df = df.resample('D').mean()\n",
    "# df['Total Smoothed'] = df['Ground Total'].interpolate(method='linear')\n",
    "# df['Total Smoothed'] = df['Ground Total'].interpolate(method='akima')\n",
    "# df['Total Smoothed'] = df['Ground Total'].interpolate(method='cubicspline')\n",
    "dfCopy['Total Smoothed'] = df['Ground Total'].interpolate(method='polynomial', order=3)\n",
    "df = dfCopy\n",
    "\n",
    "### KalmanFilter\n",
    "# kf = KalmanFilter(dim_x=1, kf=None)\n",
    "# series = TimeSeries.from_dataframe(df=df, time_col=None, value_cols='Total Smoothed', fill_missing_dates=False)\n",
    "# kf.fit(series)\n",
    "# df['Total Smoothed'] = kf.filter(series).pd_series()\n",
    "\n",
    "### Standard ewm or sma\n",
    "# df['Total Smoothed'] = df['Ground Total'].ewm(span=rWindow).mean()\n",
    "# df['Total Smoothed'] = df['Ground Total'].rolling(rWindow, min_periods=1, center=True).mean()\n",
    "\n",
    "df['Smoothed Diff'] = df['Total Smoothed'].diff()\n",
    "df['Smoothed Diff'].clip(lower=0, inplace=True)\n",
    "df['Smoothed Diff'].replace(0, np.nan, inplace=True)\n",
    "\n",
    "mv = missing_values_ratio(TimeSeries.from_dataframe(df=df, time_col=None, value_cols='Smoothed Diff'))\n",
    "print(\"Missing values: {:0.2f}%\".format(mv * 100))"
   ]
  },
  {
   "cell_type": "code",
   "execution_count": 10,
   "id": "e06c3da6-a92f-4c16-be1a-f16efeee2425",
   "metadata": {},
   "outputs": [],
   "source": [
    "series = fill_missing_values(TimeSeries.from_dataframe(df=df, time_col=None, value_cols='Smoothed Diff', fill_missing_dates=True), fill=0.0)\n",
    "df['Smoothed Diff'] = series.pd_dataframe()\n",
    "# # STL trend\n",
    "# (trend, seasonal) = extract_trend_and_seasonality(ts=series, freq=14, model=ModelMode.ADDITIVE, method='STL')\n",
    "# df['stlTrend'] = trend.pd_dataframe()['0']\n",
    "# df['stlTrend'].clip(lower=0, inplace=True)\n",
    "# df['Trend Diff'] = df['stlTrend']\n",
    "# df.drop('stlTrend', axis=1, inplace=True)\n",
    "# # Naive trend\n",
    "# (trend, seasonal) = extract_trend_and_seasonality(ts=series, freq=14, model=ModelMode.ADDITIVE, method='naive')\n",
    "# df['naiveTrend'] = trend.pd_dataframe()['0']\n",
    "# df['naiveTrend'].clip(lower=0, inplace=True)"
   ]
  },
  {
   "cell_type": "markdown",
   "id": "00d2bb42",
   "metadata": {},
   "source": [
    "#### Outliers"
   ]
  },
  {
   "cell_type": "code",
   "execution_count": 11,
   "id": "38496c42-542d-4341-b6b4-072d68634b4b",
   "metadata": {},
   "outputs": [
    {
     "name": "stdout",
     "output_type": "stream",
     "text": [
      "Detecting outliers...\n",
      "Found 12 outliers. Imputing...\n",
      "\n",
      "2020-03-01     0.000000  XX     0.000000\n",
      "2020-03-02     0.000000  XX     0.000000\n",
      "2020-03-03     0.000000  XX     0.000000\n",
      "2020-03-04     0.000000  XX     0.000000\n",
      "2020-03-05     0.000000  XX     0.000000\n",
      "2020-03-06     0.000000  XX     0.000000\n",
      "2020-03-07     0.000000  XX     0.000000\n",
      "2020-03-08     0.000000  XX     0.000000\n",
      "2020-03-09     0.000000  XX     0.000000\n",
      "2020-03-10     0.000000  XX     0.000000\n",
      "2020-03-11     0.000000  XX     0.000000\n",
      "2020-03-12     0.000000  XX     0.000000\n",
      "\n",
      "Done. Imputed 0 outliers.\n"
     ]
    }
   ],
   "source": [
    "print(\"Detecting outliers...\")\n",
    "\n",
    "# print(\"min.: {}\".format(df['Trend Diff'].min()))\n",
    "# print(\"max.: {}\".format(df['Trend Diff'].max()))\n",
    "# print(\"nans: {}\".format((df['Trend Diff'].isna().sum())))\n",
    "\n",
    "hempelWindowSize = 7\n",
    "outliers = hampel(df['Smoothed Diff'], window_size=hempelWindowSize, n=3, imputation=False)\n",
    "print(\"Found {} outliers. Imputing...\".format(len(outliers)))\n",
    "print()\n",
    "df['New Smoothed Diff'] = hampel(df['Smoothed Diff'], window_size=hempelWindowSize, n=3, imputation=True)\n",
    "# print(df['Trend Diff'].compare(df['New Trend Diff']))\n",
    "outlierCount = 0\n",
    "for i in outliers:\n",
    "    compOne = df['Smoothed Diff'].iloc[i]\n",
    "    compTwo = df['New Smoothed Diff'].iloc[i]\n",
    "    if compOne != compTwo:\n",
    "        outlierCount += 1\n",
    "        print(\"{} {:12.6f}  -> {:12.6f}\".format(df['Smoothed Diff'].iloc[[i]].index[0].date(), compOne, compTwo))\n",
    "    else:\n",
    "        print(\"{} {:12.6f}  XX {:12.6f}\".format(df['Smoothed Diff'].iloc[[i]].index[0].date(), compOne, compTwo))\n",
    "df['Smoothed Diff'] = df['New Smoothed Diff']\n",
    "df['Smoothed Diff'].clip(lower=0, inplace=True)\n",
    "# print(df['Trend Diff'].compare(df['New Trend Diff']))\n",
    "df.drop('New Smoothed Diff', axis=1, inplace=True)\n",
    "print()\n",
    "print(\"Done. Imputed {} outliers.\".format(outlierCount))"
   ]
  },
  {
   "cell_type": "markdown",
   "id": "4df558b5",
   "metadata": {},
   "source": [
    "#### Stationarity Test"
   ]
  },
  {
   "cell_type": "code",
   "execution_count": 12,
   "id": "5b21a5b1-6105-4cc7-bb44-b929c5e537f2",
   "metadata": {},
   "outputs": [
    {
     "name": "stdout",
     "output_type": "stream",
     "text": [
      "Stationarity test: TRUE (0.0377)\n"
     ]
    }
   ],
   "source": [
    "# Stationarity test\n",
    "adfTest = stationarity_test_adf(TimeSeries.from_dataframe(df=df, time_col=None, value_cols='Smoothed Diff'), maxlag=None, regression='c', autolag='AIC')[1]\n",
    "if adfTest <= 0.05:\n",
    "    adfResult = \"TRUE\"\n",
    "else:\n",
    "    adfResult = \"FALSE\"\n",
    "print(\"Stationarity test: {} ({:.4f})\".format(adfResult, adfTest))"
   ]
  },
  {
   "cell_type": "markdown",
   "id": "4fde3366",
   "metadata": {},
   "source": [
    "## Weekly Trend"
   ]
  },
  {
   "cell_type": "code",
   "execution_count": 13,
   "id": "d20e5105-40ca-4b3f-8ead-db0ad3b17f62",
   "metadata": {},
   "outputs": [
    {
     "name": "stdout",
     "output_type": "stream",
     "text": [
      ">>> Mean trend this week (35.2) compared to last week (42.5) is DOWN (-17.2%) <<<\n"
     ]
    }
   ],
   "source": [
    "lastWeekMean = df['Smoothed Diff'].tail(14).head(7).mean()\n",
    "thisWeekMean = df['Smoothed Diff'].tail(7).mean()\n",
    "changePercent = ((thisWeekMean - lastWeekMean) / lastWeekMean) * 100\n",
    "if changePercent > 0:\n",
    "    changeDirection = \"UP\"\n",
    "else:\n",
    "    changeDirection = \"DOWN\"\n",
    "print(\">>> Mean trend this week ({:.1f}) compared to last week ({:.1f}) is {} ({:.1f}%) <<<\".format(thisWeekMean, lastWeekMean, changeDirection, changePercent))"
   ]
  },
  {
   "cell_type": "markdown",
   "id": "848b8dd3",
   "metadata": {},
   "source": [
    "## Daily Cases"
   ]
  },
  {
   "cell_type": "code",
   "execution_count": 14,
   "id": "5d3e1d04-4c9a-4272-a3b1-e57f9963b04e",
   "metadata": {},
   "outputs": [
    {
     "name": "stdout",
     "output_type": "stream",
     "text": [
      "            Ground Total  Ground Diff  Total Smoothed  Smoothed Diff\n",
      "Date                                                                \n",
      "2022-04-21  16795.040667    68.240157    16784.536981      21.681228\n",
      "2022-04-22  16797.132154     2.091487    16807.382107      22.845127\n",
      "2022-04-23  16798.560134     1.427980    16831.410875      24.028768\n",
      "2022-04-24  16800.449684     1.889550    16856.643027      25.232152\n",
      "2022-04-25  16889.720099    89.270414    16883.098305      26.455279\n",
      "2022-04-26  16892.431819     2.711720    16910.796454      27.698149\n",
      "2022-04-27  16895.230084     2.798265    16939.757216      28.960762\n",
      "2022-04-28  16981.009879    85.779796    16970.000334      30.243118\n",
      "2022-04-29  16983.721600     2.711720    17001.545550      31.545217\n",
      "2022-04-30  16985.423637     1.702037    17034.412609      32.867059\n",
      "2022-05-01  16987.226643     1.803006    17068.621252      34.208643\n",
      "2022-05-02  17104.191224   116.964581    17104.191224      35.569971\n",
      "2022-05-03  17107.018336     2.827113    17141.119728      36.928504\n",
      "2022-05-04  17110.335867     3.317530    17179.313818      38.194090\n",
      "2022-05-05  17212.328289   101.992422    17218.658010      39.344192\n",
      "2022-05-06  17215.703515     3.375227    17259.036818      40.378808\n",
      "2022-05-07  17217.549793     1.846278    17300.334758      41.297940\n",
      "2022-05-08  17219.381647     1.831854    17342.436346      42.101587\n",
      "2022-05-09  17362.742230   143.360583    17385.226096      42.789750\n",
      "2022-05-10  17366.478058     3.735828    17428.588523      43.362428\n",
      "2022-05-11  17370.632183     4.154125    17472.408144      43.819621\n",
      "2022-05-12  17448.103729    77.471546    17516.569473      44.161329\n",
      "2022-05-13  17452.704999     4.601270    17560.957025      44.387552\n",
      "2022-05-14  17455.012846     2.307847    17605.455317      44.498291\n",
      "2022-05-15  17457.363965     2.351119    17649.948862      44.493545\n",
      "2022-05-16  17694.322177   236.958211    17694.322177      44.373315\n",
      "2022-05-17  17699.096536     4.774359    17738.459776      44.137599\n",
      "2022-05-18  17703.870894     4.774359    17782.246175      43.786399\n",
      "2022-05-19  17864.295123   160.424228    17825.565889      43.319714\n",
      "2022-05-20  17869.055058     4.759935    17868.303434      42.737545\n",
      "2022-05-21  17871.204240     2.149183    17910.343324      42.039890\n",
      "2022-05-22  17872.098531     0.894291    17951.570076      41.226751\n",
      "2022-05-23  18081.550089   209.451557    17991.868203      40.298128\n",
      "2022-05-24  18081.939538     0.389449    18031.122222      39.254019\n",
      "2022-05-25  18082.256867     0.317329    18069.216648      38.094426\n",
      "2022-05-26  18238.180793   155.923926    18106.035996      36.819348\n",
      "2022-05-27  18238.180793     0.000000    18141.464781      35.428785\n",
      "2022-05-28  18238.180793     0.000000    18175.387519      33.922738\n",
      "2022-05-29  18238.180793     0.000000    18207.688725      32.301206\n",
      "2022-05-30  18238.252914     0.072120    18238.252914      30.564189\n"
     ]
    }
   ],
   "source": [
    "# series = fill_missing_values(TimeSeries.from_dataframe(df=df, time_col=None, value_cols='Trend Diff', fill_missing_dates=True))\n",
    "transformer = Pipeline([Scaler(MinMaxScaler(feature_range=(1, df['Smoothed Diff'].min() + df['Smoothed Diff'].max() + 1))), BoxCox(lmbda=None, optim_method='mle')])\n",
    "seriesTransformed = transformer.fit_transform(series)\n",
    "df['Transformed Diff'] = seriesTransformed.pd_dataframe()\n",
    "print(df.drop('Transformed Diff', axis=1).tail(40))"
   ]
  },
  {
   "cell_type": "markdown",
   "id": "7362b0a4",
   "metadata": {},
   "source": [
    "#### Smoothed Seasonality Test"
   ]
  },
  {
   "cell_type": "code",
   "execution_count": 15,
   "id": "72d3c805-4012-4b4b-910e-50bd53cca8f2",
   "metadata": {},
   "outputs": [
    {
     "name": "stdout",
     "output_type": "stream",
     "text": [
      "Inspecting smoothed seasonality...\n",
      "> No seasonality detected.\n"
     ]
    }
   ],
   "source": [
    "seriesSmoothed = fill_missing_values(TimeSeries.from_dataframe(df=df, time_col=None, value_cols='Transformed Diff', fill_missing_dates=True))\n",
    "print('Inspecting smoothed seasonality...')\n",
    "seasonalityDetected = False\n",
    "for m in range(2, 22):\n",
    "    is_seasonal, period = check_seasonality(seriesSmoothed, m=m, alpha=.05)\n",
    "    if is_seasonal:\n",
    "        print('> There is seasonality of order {}.'.format(period))\n",
    "        seasonalityDetected = True\n",
    "if seasonalityDetected == False:\n",
    "    print(\"> No seasonality detected.\")"
   ]
  },
  {
   "cell_type": "markdown",
   "id": "2ee3bceb",
   "metadata": {},
   "source": [
    "#### Smoothed Stationarity Test"
   ]
  },
  {
   "cell_type": "code",
   "execution_count": 16,
   "id": "f284a85b-c1c1-46da-8cf1-76149df3b53e",
   "metadata": {},
   "outputs": [
    {
     "name": "stdout",
     "output_type": "stream",
     "text": [
      "Stationarity test: TRUE (0.0103)\n"
     ]
    }
   ],
   "source": [
    "adfTest = stationarity_test_adf(TimeSeries.from_dataframe(df=df, time_col=None, value_cols='Transformed Diff'), maxlag=None, regression='c', autolag='AIC')[1]\n",
    "if adfTest <= 0.05:\n",
    "    adfResult = \"TRUE\"\n",
    "else:\n",
    "    adfResult = \"FALSE\"\n",
    "print(\"Stationarity test: {} ({:.4f})\".format(adfResult, adfTest))"
   ]
  },
  {
   "cell_type": "code",
   "execution_count": 17,
   "id": "f7830c8f-773c-4807-8c4e-b697b457c398",
   "metadata": {},
   "outputs": [],
   "source": [
    "### Auto select ARIMA params\n",
    "# import pmdarima as pm\n",
    "# m = pm.AutoARIMA(start_p=0, d=None, start_q=0,\n",
    "#                     max_p=6, max_d=3, max_q=4,\n",
    "#                     m=1, seasonal=False, stationary=False,\n",
    "#                     information_criterion='aic', alpha=0.05)\n",
    "# aaDF = seriesSmoothed.pd_series()\n",
    "# print('Auto-selecting ARIMA params...')\n",
    "# m.fit(aaDF)\n",
    "# # print(m.summary())\n",
    "# # print(m.model_.aic())\n",
    "# # print(dir(m.model_))\n",
    "# arimaParams = m.model_.get_params()['order']\n",
    "# p, d, q = arimaParams\n",
    "# print('ARIMA({}, {}, {}) selected.'.format(p, d, q))"
   ]
  },
  {
   "cell_type": "markdown",
   "id": "16e7da3e",
   "metadata": {},
   "source": [
    "## Backtesting"
   ]
  },
  {
   "cell_type": "code",
   "execution_count": 18,
   "id": "ae8e77a4-b556-4bb7-b5a8-e66ad9d18883",
   "metadata": {},
   "outputs": [
    {
     "name": "stdout",
     "output_type": "stream",
     "text": [
      "Backtesting ExponentialSmoothing(trend=ModelMode.ADDITIVE, damped=True, seasonal=SeasonalityMode.NONE, seasonal_periods=None...\n"
     ]
    },
    {
     "data": {
      "application/vnd.jupyter.widget-view+json": {
       "model_id": "07d467123f5941afaba2f0c7b72c076f",
       "version_major": 2,
       "version_minor": 0
      },
      "text/plain": [
       "  0%|          | 0/26 [00:00<?, ?it/s]"
      ]
     },
     "metadata": {},
     "output_type": "display_data"
    },
    {
     "name": "stdout",
     "output_type": "stream",
     "text": [
      "Backtesting Auto-ARIMA-Statsforecasts...\n"
     ]
    },
    {
     "data": {
      "application/vnd.jupyter.widget-view+json": {
       "model_id": "cbf81f561ff8408d8d7b1d52a88df056",
       "version_major": 2,
       "version_minor": 0
      },
      "text/plain": [
       "  0%|          | 0/26 [00:00<?, ?it/s]"
      ]
     },
     "metadata": {},
     "output_type": "display_data"
    }
   ],
   "source": [
    "models = [\n",
    "    ExponentialSmoothing(trend=ModelMode.ADDITIVE, seasonal=SeasonalityMode.NONE, damped=True),\n",
    "    StatsForecastAutoARIMA(),\n",
    "#     ARIMA(p, d, q),\n",
    "#     ARIMA(1, 1, 2),\n",
    "#     ARIMA(4, 1, 2),\n",
    "]\n",
    "backtests = []\n",
    "for model in models:\n",
    "    print('Backtesting {}...'.format(model))\n",
    "    backtests.append(model.historical_forecasts(\n",
    "                        seriesSmoothed,\n",
    "                        start=backtestRatio,\n",
    "                        forecast_horizon=forecastHorizon,\n",
    "                        overlap_end=False,\n",
    "                        stride=backtestStride,\n",
    "                        # last_points_only=True,\n",
    "                        # retrain=False,\n",
    "                        # retrain=True,\n",
    "                        verbose=True\n",
    "                    )\n",
    "    )"
   ]
  },
  {
   "cell_type": "markdown",
   "id": "9b99c978",
   "metadata": {},
   "source": [
    "## Projections"
   ]
  },
  {
   "cell_type": "code",
   "execution_count": 19,
   "id": "95484f53-5e99-4e8d-85f7-2d3e7a02bedc",
   "metadata": {},
   "outputs": [
    {
     "name": "stdout",
     "output_type": "stream",
     "text": [
      "Forecasting...\n",
      "Plotting...\n",
      "Forecasting...\n",
      "Plotting...\n"
     ]
    },
    {
     "data": {
      "image/png": "[encoded data removed]",
      "text/plain": [
       "<Figure size 691.2x388.8 with 1 Axes>"
      ]
     },
     "metadata": {
      "needs_background": "light"
     },
     "output_type": "display_data"
    }
   ],
   "source": [
    "### Set up plot size ratio, ticks, ticklabels\n",
    "plt.close(\"all\")\n",
    "sizeRatio = 0.6\n",
    "fig, ax = plt.subplots()\n",
    "fig.set_figwidth(16 * sizeRatio)\n",
    "fig.set_figheight(9 * sizeRatio)\n",
    "ax.yaxis.set_tick_params(labelright=True)\n",
    "ax.yaxis.set_ticks_position('both')\n",
    "ax.yaxis.set_major_formatter(ticker.StrMethodFormatter('{x:,.0f}'))   ## comma separaters\n",
    "ax.grid(visible=True, which='both', axis='both')\n",
    "\n",
    "yMax = transformer.inverse_transform(seriesSmoothed).pd_series().max()\n",
    "ax.set_ylim(0, yMax + (yMax * .15))\n",
    "\n",
    "transformer.inverse_transform(seriesSmoothed).plot(label='Actual (smoothed)')\n",
    "for i, m in enumerate(models):\n",
    "    if re.search(r'NBEATSModel object at ', str(m)):\n",
    "        m = \"N-BEATS\"\n",
    "    elif re.search(r'LGBModel', str(m)):\n",
    "        m = \"LightGBM\"\n",
    "    elif re.search(r'ExponentialSmoothing', str(m)):\n",
    "        m = \"Exponential Smoothing\"\n",
    "    cofv = coefficient_of_variation(backtests[i], seriesSmoothed)\n",
    "    r2 = r2_score(backtests[i], seriesSmoothed)\n",
    "    transformer.inverse_transform(backtests[i]).plot(label='backtests: {}\\n  – CoV={:.1f}%; R2={:.1f}%'.format(m, cofv, r2 * 100), lw=1, ls='dashed', alpha=0.1)\n",
    "for i, m in enumerate(models):\n",
    "    print(\"Forecasting...\")\n",
    "    m.fit(seriesSmoothed)\n",
    "    prediction = m.predict(predictionDays, num_samples=25000)\n",
    "    print(\"Plotting...\")\n",
    "    if re.search(r'NBEATSModel object at ', str(m)):\n",
    "        m = \"N-BEATS\"\n",
    "    elif re.search(r'LGBModel', str(m)):\n",
    "        m = \"LightGBM\"\n",
    "    elif re.search(r'ExponentialSmoothing', str(m)):\n",
    "        m = \"Exponential Smoothing\"\n",
    "    quantileOffset = .4\n",
    "    lowQuantile = 0 + quantileOffset\n",
    "    highQuantile = 1 - quantileOffset\n",
    "    transformer.inverse_transform(prediction).plot(label='{} {}-day projection'.format(m, predictionDays), low_quantile=lowQuantile, high_quantile=highQuantile)\n",
    "    \n",
    "plt.axvline(x=series.time_index[-1].date(), ymin=0, ymax=1, color='k', ls='dashed', lw=2, alpha=0.3)\n",
    "plt.fill_between(transformer.inverse_transform(seriesSmoothed).pd_series().index, transformer.inverse_transform(seriesSmoothed).pd_series(), label='', lw=2, alpha=0.2)\n",
    "\n",
    "plt.xlabel(xlabel='{} Days ({}-day actual + {}-day projection)'.format(len(series) + predictionDays, len(series), predictionDays))\n",
    "plt.ylabel('Per {:d}K Population ({}-mile radius, {} counties)'.format(int(popMult / 1000), distTH, countyCount))\n",
    "fig.supxlabel(x=0.025, y=0.04, ha='left', va='bottom', weight='light', size='xx-small', t=citations)\n",
    "plt.legend(prop={'size': 8}, loc='best', frameon=True, fancybox=True, facecolor='#ffffff', framealpha=0.6)\n",
    "\n",
    "# monthFmt = mdates.DateFormatter(\"%-d %b %y\")\n",
    "monthFmt = mdates.DateFormatter(\"%b %Y\")\n",
    "yearFmt = mdates.DateFormatter(\"%b\\n%Y\")\n",
    "nullFmt = mdates.DateFormatter('')\n",
    "\n",
    "ax.xaxis.set_minor_formatter(monthFmt)\n",
    "ax.xaxis.set_major_formatter(yearFmt)\n",
    "\n",
    "months = mdates.MonthLocator()\n",
    "years = mdates.YearLocator()\n",
    "autoLoc = mdates.AutoDateLocator()\n",
    "ax.xaxis.set_minor_locator(autoLoc)\n",
    "ax.xaxis.set_major_locator(autoLoc)\n",
    "\n",
    "plt.draw()\n",
    "ax.set_xticklabels(ax.get_xticklabels(which='both'), rotation=0, ha='center', va='top')\n",
    "# ax.set_xticklabels(ax.get_xticklabels(minor=True), rotation=0, ha='center', va='top')\n",
    "# ax.set_xticklabels(ax.get_xticklabels(minor=False), rotation=0, ha='center', va='top')\n",
    "# plt.setp(ax.get_xticklabels(which='both'), rotation=0, ha='center', va='top')\n",
    "# plt.setp(ax.get_xticklabels(minor=True), rotation=0, ha='center', va='top')\n",
    "# plt.setp(ax.get_xticklabels(minor=False), rotation=0, ha='center', va='top')\n",
    "\n",
    "plt.title('COVID-19: Daily New Confirmed Cases')\n",
    "plt.tight_layout()\n",
    "plt.savefig('covidPlot.png', dpi=600, format='png')\n",
    "plt.show()"
   ]
  },
  {
   "cell_type": "code",
   "execution_count": null,
   "id": "dfed6c71",
   "metadata": {},
   "outputs": [],
   "source": []
  }
 ],
 "metadata": {
  "kernelspec": {
   "display_name": "Python 3 (ipykernel)",
   "language": "python",
   "name": "python3"
  },
  "language_info": {
   "codemirror_mode": {
    "name": "ipython",
    "version": 3
   },
   "file_extension": ".py",
   "mimetype": "text/x-python",
   "name": "python",
   "nbconvert_exporter": "python",
   "pygments_lexer": "ipython3",
   "version": "3.8.13"
  }
 },
 "nbformat": 4,
 "nbformat_minor": 5
}
